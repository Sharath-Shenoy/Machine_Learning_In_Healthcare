{
 "cells": [
  {
   "cell_type": "markdown",
   "metadata": {},
   "source": [
    "## 2a) Decision Tree Regression\n",
    "\n",
    "Decision tree regression will split nodes containing each operation into smaller samples and will repeat a mean value instead of purity. This method is not confounded by colinearity of features, so dimensionality reduction is not required for this model."
   ]
  },
  {
   "cell_type": "code",
   "execution_count": null,
   "metadata": {},
   "outputs": [],
   "source": [
    "from sklearn.tree import DecisionTreeRegressor\n",
    "#Construct first tree to determine max depth without restrictions\n",
    "t0=time.time()\n",
    "reg=DecisionTreeRegressor(random_state=24)\n",
    "reg.fit(X1_train,y1_train)\n",
    "t1=time.time()\n",
    "print(\"Time to fit one tree: {0:.3f} seconds.\".format(t1-t0))\n",
    "\n",
    "from sklearn import tree\n",
    "dot_data = tree.export_graphviz(reg, out_file=None,\n",
    "                                feature_names=list(all_features),\n",
    "                                filled=True, \n",
    "                                rounded=True,special_characters=True)\n",
    "import graphviz\n",
    "graph = graphviz.Source(dot_data).view(filename='default_tree.gv')\n",
    "from graphviz import render\n",
    "render('dot', 'png', 'default_tree.gv')"
   ]
  },
  {
   "cell_type": "markdown",
   "metadata": {},
   "source": [
    "The Decision Tree Output is below. The depth of the tree with default settings is 25."
   ]
  },
  {
   "cell_type": "markdown",
   "metadata": {},
   "source": [
    "![standard tree](default_tree.gv.png)"
   ]
  },
  {
   "cell_type": "code",
   "execution_count": 114,
   "metadata": {},
   "outputs": [
    {
     "name": "stdout",
     "output_type": "stream",
     "text": [
      "2352 hyperparameters will be tested.\n"
     ]
    }
   ],
   "source": [
    "DTR_params_1={\n",
    "'max_depth' : [7,10,11,12,13,15,20,None],\n",
    "'min_samples_split': [100,150,175,200,225,250],\n",
    "'min_samples_leaf': [8,10,11,12,13,14,16],\n",
    "'max_features': [4,6,8,10,12,15,None]\n",
    "}\n",
    "\n",
    "#Print number of parameters entered\n",
    "param_num = []\n",
    "for key,value in DTR_params_1.items():\n",
    "    param_num.append(len(value))\n",
    "result = 1\n",
    "for x in param_num: \n",
    "    result = result * x  \n",
    "print(\"{} hyperparameters will be tested.\".format(result)) \n",
    "\n",
    "mod=DecisionTreeRegressor(random_state=24)\n",
    "lots_of_Trees = GridSearchCV(mod, DTR_params_1, cv=5, scoring = 'neg_mean_squared_error', n_jobs=-1)"
   ]
  },
  {
   "cell_type": "code",
   "execution_count": 115,
   "metadata": {},
   "outputs": [
    {
     "name": "stdout",
     "output_type": "stream",
     "text": [
      "Fitting Complete. Time elapsed: 66.134 seconds.\n"
     ]
    }
   ],
   "source": [
    "t0=time.time()\n",
    "lots_of_Trees.fit(X1_train,y1_train)\n",
    "t1=time.time()\n",
    "print(\"Fitting Complete. Time elapsed: {0:.3f} seconds.\".format(t1-t0))"
   ]
  },
  {
   "cell_type": "code",
   "execution_count": 116,
   "metadata": {},
   "outputs": [
    {
     "name": "stdout",
     "output_type": "stream",
     "text": [
      "Parameters of best tree: {'max_depth': 13, 'max_features': None, 'min_samples_leaf': 8, 'min_samples_split': 100}\n",
      "Mean Squared Error of best tree: 18.967521909\n"
     ]
    }
   ],
   "source": [
    "print(\"Parameters of best tree: {}\".format(lots_of_Trees.best_params_))\n",
    "print(\"Mean Squared Error of best tree: {0:.9f}\".format(-1*lots_of_Trees.best_score_))"
   ]
  },
  {
   "cell_type": "markdown",
   "metadata": {},
   "source": [
    "The best tree from the first iteration of GridSearchCV has values for min_samples_leaf and min_samples_split that are equal to the lowest values entered in the hyperparameter space. Based on this, another instance of GridSearchCV will be performed with a lower range of those two hyperparameters, with a lower step between each possible hyperparameter. Max_depth will be adjusted only a small amount, within 1 unit of the best value of 13. Max_features will not be adjusted."
   ]
  },
  {
   "cell_type": "code",
   "execution_count": 122,
   "metadata": {},
   "outputs": [
    {
     "name": "stdout",
     "output_type": "stream",
     "text": [
      "108 hyperparameters will be tested.\n"
     ]
    }
   ],
   "source": [
    "DTR_params_2={\n",
    "'max_depth' : [12,13,14],\n",
    "'min_samples_split': [20,30,40,50,60,70,80,90,100],\n",
    "'min_samples_leaf': [2,4,6,8]\n",
    "}\n",
    "\n",
    "#Print number of parameters entered\n",
    "param_num = []\n",
    "for key,value in DTR_params_2.items():\n",
    "    param_num.append(len(value))\n",
    "result = 1\n",
    "for x in param_num: \n",
    "    result = result * x  \n",
    "print(\"{} hyperparameters will be tested.\".format(result)) \n",
    "\n",
    "mod=DecisionTreeRegressor(max_features=None, random_state=24)\n",
    "lots_of_Trees_2 = GridSearchCV(mod, DTR_params_2, cv=5, scoring = 'neg_mean_squared_error', n_jobs=-1)"
   ]
  },
  {
   "cell_type": "code",
   "execution_count": 123,
   "metadata": {},
   "outputs": [
    {
     "name": "stdout",
     "output_type": "stream",
     "text": [
      "Fitting Complete. Time elapsed: 8.222 seconds.\n"
     ]
    }
   ],
   "source": [
    "t0=time.time()\n",
    "lots_of_Trees_2.fit(X1_train,y1_train)\n",
    "t1=time.time()\n",
    "print(\"Fitting Complete. Time elapsed: {0:.3f} seconds.\".format(t1-t0))"
   ]
  },
  {
   "cell_type": "code",
   "execution_count": 124,
   "metadata": {},
   "outputs": [
    {
     "name": "stdout",
     "output_type": "stream",
     "text": [
      "Parameters of best tree: {'max_depth': 14, 'min_samples_leaf': 2, 'min_samples_split': 30}\n",
      "Mean Squared Error of best tree: 15.363433652\n"
     ]
    }
   ],
   "source": [
    "print(\"Parameters of best tree: {}\".format(lots_of_Trees_2.best_params_))\n",
    "print(\"Mean Squared Error of best tree: {0:.9f}\".format(-1*lots_of_Trees_2.best_score_))"
   ]
  },
  {
   "cell_type": "code",
   "execution_count": 127,
   "metadata": {},
   "outputs": [],
   "source": [
    "#Obtain train and test scores for best estimator to check for overfitting\n",
    "best = lots_of_Trees_2.best_estimator_\n",
    "\n",
    "yp = best.predict(X1_train)\n",
    "DTR_mse_train = mean_squared_error(y1_train,yp)\n",
    "DTR_R2_train = r2_score(y1_train, yp)\n",
    "DTR_mae_train = median_absolute_error(y1_train, yp)\n",
    "\n",
    "yp=best.predict(X1_test)\n",
    "DTR_mse_test = mean_squared_error(y1_test,yp)\n",
    "DTR_R2_test = r2_score(y1_test, yp)\n",
    "DTR_mae_test = median_absolute_error(y1_test, yp)"
   ]
  },
  {
   "cell_type": "code",
   "execution_count": 144,
   "metadata": {},
   "outputs": [
    {
     "data": {
      "text/html": [
       "<div>\n",
       "<style scoped>\n",
       "    .dataframe tbody tr th:only-of-type {\n",
       "        vertical-align: middle;\n",
       "    }\n",
       "\n",
       "    .dataframe tbody tr th {\n",
       "        vertical-align: top;\n",
       "    }\n",
       "\n",
       "    .dataframe thead th {\n",
       "        text-align: right;\n",
       "    }\n",
       "</style>\n",
       "<table border=\"1\" class=\"dataframe\">\n",
       "  <thead>\n",
       "    <tr style=\"text-align: right;\">\n",
       "      <th></th>\n",
       "      <th>MSE</th>\n",
       "      <th>R^2</th>\n",
       "      <th>MAE</th>\n",
       "    </tr>\n",
       "  </thead>\n",
       "  <tbody>\n",
       "    <tr>\n",
       "      <th>Train</th>\n",
       "      <td>6.183787</td>\n",
       "      <td>0.946403</td>\n",
       "      <td>1.165303</td>\n",
       "    </tr>\n",
       "    <tr>\n",
       "      <th>Test</th>\n",
       "      <td>15.341181</td>\n",
       "      <td>0.861558</td>\n",
       "      <td>1.706436</td>\n",
       "    </tr>\n",
       "  </tbody>\n",
       "</table>\n",
       "</div>"
      ],
      "text/plain": [
       "             MSE       R^2       MAE\n",
       "Train   6.183787  0.946403  1.165303\n",
       "Test   15.341181  0.861558  1.706436"
      ]
     },
     "execution_count": 144,
     "metadata": {},
     "output_type": "execute_result"
    }
   ],
   "source": [
    "#Report Train and test scores from best estimator\n",
    "DTR_train=np.array([DTR_mse_train,DTR_R2_train, DTR_mae_train])\n",
    "DTR_test=np.array([DTR_mse_test, DTR_R2_test,DTR_mae_test])\n",
    "pd.DataFrame(np.array([DTR_train,DTR_test]), columns=['MSE','R^2','MAE'], index=['Train','Test'])"
   ]
  },
  {
   "cell_type": "code",
   "execution_count": 247,
   "metadata": {
    "scrolled": false
   },
   "outputs": [
    {
     "name": "stdout",
     "output_type": "stream",
     "text": [
      "Finished fitting for 2 ccp_alphas out of 245. Time elapsed: 34.537 seconds.\n",
      "Finished fitting for 4 ccp_alphas out of 245. Time elapsed: 78.622 seconds.\n",
      "Finished fitting for 6 ccp_alphas out of 245. Time elapsed: 110.776 seconds.\n",
      "Finished fitting for 8 ccp_alphas out of 245. Time elapsed: 139.004 seconds.\n",
      "Finished fitting for 10 ccp_alphas out of 245. Time elapsed: 167.946 seconds.\n",
      "Finished fitting for 12 ccp_alphas out of 245. Time elapsed: 197.893 seconds.\n",
      "Finished fitting for 14 ccp_alphas out of 245. Time elapsed: 229.768 seconds.\n",
      "Finished fitting for 16 ccp_alphas out of 245. Time elapsed: 254.751 seconds.\n",
      "Finished fitting for 18 ccp_alphas out of 245. Time elapsed: 279.959 seconds.\n",
      "Finished fitting for 20 ccp_alphas out of 245. Time elapsed: 304.804 seconds.\n",
      "Finished fitting for 22 ccp_alphas out of 245. Time elapsed: 329.519 seconds.\n",
      "Finished fitting for 24 ccp_alphas out of 245. Time elapsed: 352.616 seconds.\n",
      "Finished fitting for 26 ccp_alphas out of 245. Time elapsed: 375.114 seconds.\n",
      "Finished fitting for 28 ccp_alphas out of 245. Time elapsed: 397.976 seconds.\n",
      "Finished fitting for 30 ccp_alphas out of 245. Time elapsed: 421.544 seconds.\n",
      "Finished fitting for 32 ccp_alphas out of 245. Time elapsed: 445.325 seconds.\n",
      "Finished fitting for 34 ccp_alphas out of 245. Time elapsed: 468.972 seconds.\n",
      "Finished fitting for 36 ccp_alphas out of 245. Time elapsed: 497.275 seconds.\n",
      "Finished fitting for 38 ccp_alphas out of 245. Time elapsed: 521.010 seconds.\n",
      "Finished fitting for 40 ccp_alphas out of 245. Time elapsed: 545.214 seconds.\n",
      "Finished fitting for 42 ccp_alphas out of 245. Time elapsed: 568.540 seconds.\n",
      "Finished fitting for 44 ccp_alphas out of 245. Time elapsed: 598.225 seconds.\n",
      "Finished fitting for 46 ccp_alphas out of 245. Time elapsed: 628.221 seconds.\n",
      "Finished fitting for 48 ccp_alphas out of 245. Time elapsed: 656.687 seconds.\n",
      "Finished fitting for 50 ccp_alphas out of 245. Time elapsed: 683.437 seconds.\n",
      "Finished fitting for 52 ccp_alphas out of 245. Time elapsed: 708.032 seconds.\n",
      "Finished fitting for 54 ccp_alphas out of 245. Time elapsed: 732.358 seconds.\n",
      "Finished fitting for 56 ccp_alphas out of 245. Time elapsed: 759.155 seconds.\n",
      "Finished fitting for 58 ccp_alphas out of 245. Time elapsed: 791.603 seconds.\n",
      "Finished fitting for 60 ccp_alphas out of 245. Time elapsed: 816.390 seconds.\n",
      "Finished fitting for 62 ccp_alphas out of 245. Time elapsed: 841.072 seconds.\n",
      "Finished fitting for 64 ccp_alphas out of 245. Time elapsed: 866.113 seconds.\n",
      "Finished fitting for 66 ccp_alphas out of 245. Time elapsed: 891.223 seconds.\n",
      "Finished fitting for 68 ccp_alphas out of 245. Time elapsed: 917.648 seconds.\n",
      "Finished fitting for 70 ccp_alphas out of 245. Time elapsed: 942.805 seconds.\n",
      "Finished fitting for 72 ccp_alphas out of 245. Time elapsed: 968.202 seconds.\n",
      "Finished fitting for 74 ccp_alphas out of 245. Time elapsed: 994.010 seconds.\n",
      "Finished fitting for 76 ccp_alphas out of 245. Time elapsed: 1020.234 seconds.\n",
      "Finished fitting for 78 ccp_alphas out of 245. Time elapsed: 1046.939 seconds.\n",
      "Finished fitting for 80 ccp_alphas out of 245. Time elapsed: 1072.904 seconds.\n",
      "Finished fitting for 82 ccp_alphas out of 245. Time elapsed: 1098.809 seconds.\n",
      "Finished fitting for 84 ccp_alphas out of 245. Time elapsed: 1124.083 seconds.\n",
      "Finished fitting for 86 ccp_alphas out of 245. Time elapsed: 1149.392 seconds.\n",
      "Finished fitting for 88 ccp_alphas out of 245. Time elapsed: 1173.884 seconds.\n",
      "Finished fitting for 90 ccp_alphas out of 245. Time elapsed: 1198.251 seconds.\n",
      "Finished fitting for 92 ccp_alphas out of 245. Time elapsed: 1222.194 seconds.\n",
      "Finished fitting for 94 ccp_alphas out of 245. Time elapsed: 1245.355 seconds.\n",
      "Finished fitting for 96 ccp_alphas out of 245. Time elapsed: 1268.032 seconds.\n",
      "Finished fitting for 98 ccp_alphas out of 245. Time elapsed: 1291.250 seconds.\n",
      "Finished fitting for 100 ccp_alphas out of 245. Time elapsed: 1313.789 seconds.\n",
      "Finished fitting for 102 ccp_alphas out of 245. Time elapsed: 1337.022 seconds.\n",
      "Finished fitting for 104 ccp_alphas out of 245. Time elapsed: 1358.848 seconds.\n",
      "Finished fitting for 106 ccp_alphas out of 245. Time elapsed: 1381.820 seconds.\n",
      "Finished fitting for 108 ccp_alphas out of 245. Time elapsed: 1403.470 seconds.\n",
      "Finished fitting for 110 ccp_alphas out of 245. Time elapsed: 1425.241 seconds.\n",
      "Finished fitting for 112 ccp_alphas out of 245. Time elapsed: 1447.183 seconds.\n",
      "Finished fitting for 114 ccp_alphas out of 245. Time elapsed: 1468.794 seconds.\n",
      "Finished fitting for 116 ccp_alphas out of 245. Time elapsed: 1490.785 seconds.\n",
      "Finished fitting for 118 ccp_alphas out of 245. Time elapsed: 1513.154 seconds.\n",
      "Finished fitting for 120 ccp_alphas out of 245. Time elapsed: 1534.784 seconds.\n",
      "Finished fitting for 122 ccp_alphas out of 245. Time elapsed: 1556.197 seconds.\n",
      "Finished fitting for 124 ccp_alphas out of 245. Time elapsed: 1577.584 seconds.\n",
      "Finished fitting for 126 ccp_alphas out of 245. Time elapsed: 1599.084 seconds.\n",
      "Finished fitting for 128 ccp_alphas out of 245. Time elapsed: 1620.634 seconds.\n",
      "Finished fitting for 130 ccp_alphas out of 245. Time elapsed: 1641.774 seconds.\n",
      "Finished fitting for 132 ccp_alphas out of 245. Time elapsed: 1662.851 seconds.\n",
      "Finished fitting for 134 ccp_alphas out of 245. Time elapsed: 1684.068 seconds.\n",
      "Finished fitting for 136 ccp_alphas out of 245. Time elapsed: 1704.721 seconds.\n",
      "Finished fitting for 138 ccp_alphas out of 245. Time elapsed: 1725.651 seconds.\n",
      "Finished fitting for 140 ccp_alphas out of 245. Time elapsed: 1746.086 seconds.\n",
      "Finished fitting for 142 ccp_alphas out of 245. Time elapsed: 1766.763 seconds.\n",
      "Finished fitting for 144 ccp_alphas out of 245. Time elapsed: 1787.787 seconds.\n",
      "Finished fitting for 146 ccp_alphas out of 245. Time elapsed: 1807.653 seconds.\n",
      "Finished fitting for 148 ccp_alphas out of 245. Time elapsed: 1828.052 seconds.\n",
      "Finished fitting for 150 ccp_alphas out of 245. Time elapsed: 1847.622 seconds.\n",
      "Finished fitting for 152 ccp_alphas out of 245. Time elapsed: 1868.286 seconds.\n",
      "Finished fitting for 154 ccp_alphas out of 245. Time elapsed: 1888.326 seconds.\n",
      "Finished fitting for 156 ccp_alphas out of 245. Time elapsed: 1908.313 seconds.\n",
      "Finished fitting for 158 ccp_alphas out of 245. Time elapsed: 1928.457 seconds.\n",
      "Finished fitting for 160 ccp_alphas out of 245. Time elapsed: 1948.157 seconds.\n",
      "Finished fitting for 162 ccp_alphas out of 245. Time elapsed: 1968.154 seconds.\n",
      "Finished fitting for 164 ccp_alphas out of 245. Time elapsed: 1988.776 seconds.\n",
      "Finished fitting for 166 ccp_alphas out of 245. Time elapsed: 2009.216 seconds.\n",
      "Finished fitting for 168 ccp_alphas out of 245. Time elapsed: 9969.611 seconds.\n",
      "Finished fitting for 170 ccp_alphas out of 245. Time elapsed: 9991.092 seconds.\n",
      "Finished fitting for 172 ccp_alphas out of 245. Time elapsed: 10011.534 seconds.\n",
      "Finished fitting for 174 ccp_alphas out of 245. Time elapsed: 10033.200 seconds.\n",
      "Finished fitting for 176 ccp_alphas out of 245. Time elapsed: 10052.944 seconds.\n",
      "Finished fitting for 178 ccp_alphas out of 245. Time elapsed: 10072.894 seconds.\n",
      "Finished fitting for 180 ccp_alphas out of 245. Time elapsed: 10093.161 seconds.\n",
      "Finished fitting for 182 ccp_alphas out of 245. Time elapsed: 10115.560 seconds.\n",
      "Finished fitting for 184 ccp_alphas out of 245. Time elapsed: 10138.079 seconds.\n",
      "Finished fitting for 186 ccp_alphas out of 245. Time elapsed: 10157.489 seconds.\n",
      "Finished fitting for 188 ccp_alphas out of 245. Time elapsed: 10179.475 seconds.\n",
      "Finished fitting for 190 ccp_alphas out of 245. Time elapsed: 10203.677 seconds.\n",
      "Finished fitting for 192 ccp_alphas out of 245. Time elapsed: 10225.658 seconds.\n",
      "Finished fitting for 194 ccp_alphas out of 245. Time elapsed: 10267.289 seconds.\n",
      "Finished fitting for 196 ccp_alphas out of 245. Time elapsed: 10289.806 seconds.\n",
      "Finished fitting for 198 ccp_alphas out of 245. Time elapsed: 10311.943 seconds.\n",
      "Finished fitting for 200 ccp_alphas out of 245. Time elapsed: 10334.461 seconds.\n",
      "Finished fitting for 202 ccp_alphas out of 245. Time elapsed: 10356.010 seconds.\n",
      "Finished fitting for 204 ccp_alphas out of 245. Time elapsed: 10378.238 seconds.\n",
      "Finished fitting for 206 ccp_alphas out of 245. Time elapsed: 10400.649 seconds.\n",
      "Finished fitting for 208 ccp_alphas out of 245. Time elapsed: 10423.323 seconds.\n"
     ]
    },
    {
     "name": "stdout",
     "output_type": "stream",
     "text": [
      "Finished fitting for 210 ccp_alphas out of 245. Time elapsed: 10446.882 seconds.\n",
      "Finished fitting for 212 ccp_alphas out of 245. Time elapsed: 10473.770 seconds.\n",
      "Finished fitting for 214 ccp_alphas out of 245. Time elapsed: 10501.374 seconds.\n",
      "Finished fitting for 216 ccp_alphas out of 245. Time elapsed: 10527.149 seconds.\n",
      "Finished fitting for 218 ccp_alphas out of 245. Time elapsed: 10550.089 seconds.\n",
      "Finished fitting for 220 ccp_alphas out of 245. Time elapsed: 10573.562 seconds.\n",
      "Finished fitting for 222 ccp_alphas out of 245. Time elapsed: 10597.864 seconds.\n",
      "Finished fitting for 224 ccp_alphas out of 245. Time elapsed: 10623.245 seconds.\n",
      "Finished fitting for 226 ccp_alphas out of 245. Time elapsed: 10646.548 seconds.\n",
      "Finished fitting for 228 ccp_alphas out of 245. Time elapsed: 10670.242 seconds.\n",
      "Finished fitting for 230 ccp_alphas out of 245. Time elapsed: 10694.087 seconds.\n",
      "Finished fitting for 232 ccp_alphas out of 245. Time elapsed: 10719.420 seconds.\n",
      "Finished fitting for 234 ccp_alphas out of 245. Time elapsed: 10743.146 seconds.\n",
      "Finished fitting for 236 ccp_alphas out of 245. Time elapsed: 10767.992 seconds.\n",
      "Finished fitting for 238 ccp_alphas out of 245. Time elapsed: 10791.018 seconds.\n",
      "Finished fitting for 240 ccp_alphas out of 245. Time elapsed: 10815.734 seconds.\n",
      "Finished fitting for 242 ccp_alphas out of 245. Time elapsed: 10840.068 seconds.\n",
      "Finished fitting for 244 ccp_alphas out of 245. Time elapsed: 10865.293 seconds.\n"
     ]
    },
    {
     "ename": "AttributeError",
     "evalue": "'RandomForestRegressor' object has no attribute 'tree_'",
     "output_type": "error",
     "traceback": [
      "\u001b[1;31m---------------------------------------------------------------------------\u001b[0m",
      "\u001b[1;31mAttributeError\u001b[0m                            Traceback (most recent call last)",
      "\u001b[1;32m<ipython-input-247-e5d8b6405778>\u001b[0m in \u001b[0;36m<module>\u001b[1;34m\u001b[0m\n\u001b[0;32m     17\u001b[0m     \u001b[0mcount\u001b[0m \u001b[1;33m+=\u001b[0m\u001b[1;36m1\u001b[0m\u001b[1;33m\u001b[0m\u001b[1;33m\u001b[0m\u001b[0m\n\u001b[0;32m     18\u001b[0m print(\"Number of nodes in the last tree is: {} with ccp_alpha: {}\".format(\n\u001b[1;32m---> 19\u001b[1;33m       regs[-1].tree_.node_count, ccp_alphas[-1]))\n\u001b[0m\u001b[0;32m     20\u001b[0m \u001b[1;33m\u001b[0m\u001b[0m\n\u001b[0;32m     21\u001b[0m \u001b[1;31m#Calculate scores for train set\u001b[0m\u001b[1;33m\u001b[0m\u001b[1;33m\u001b[0m\u001b[1;33m\u001b[0m\u001b[0m\n",
      "\u001b[1;31mAttributeError\u001b[0m: 'RandomForestRegressor' object has no attribute 'tree_'"
     ]
    }
   ],
   "source": [
    "#Determine best ccp_alpha for random forest regressor with the optimal number of trees\n",
    "dt=lots_of_Trees_2.best_estimator_\n",
    "reg=lots_of_Trees_2.best_estimator_\n",
    "path = dt.cost_complexity_pruning_path(X1_train,y1_train)\n",
    "ccp_alphas, impurities = path.ccp_alphas, path.impurities\n",
    "\n",
    "count=1 \n",
    "regs = []\n",
    "t0=time.time()\n",
    "for ccp_alpha in ccp_alphas:\n",
    "    reg = RFR(n_estimators=500, max_features=None, oob_score=True, random_state=42, ccp_alpha=ccp_alpha, n_jobs=-1)\n",
    "    reg.fit(X1_train, y1_train)\n",
    "    regs.append(reg)\n",
    "    t1=time.time()\n",
    "    if count%2 == 0:\n",
    "        print(\"Finished fitting for {0} ccp_alphas out of {1}. Time elapsed: {2:.3f} seconds.\".format(count, len(ccp_alphas),t1-t0))\n",
    "    count +=1\n",
    "print(\"Number of nodes in the last tree is: {} with ccp_alpha: {}\".format(\n",
    "      regs[-1].tree_.node_count, ccp_alphas[-1]))"
   ]
  },
  {
   "cell_type": "code",
   "execution_count": 254,
   "metadata": {},
   "outputs": [
    {
     "name": "stdout",
     "output_type": "stream",
     "text": [
      "Complete. Time elapsed: 83.84398818016052 seconds.\n"
     ]
    }
   ],
   "source": [
    "#Calculate scores for train set\n",
    "t0=time.time()\n",
    "dtr_mse_train_scores=[]\n",
    "dtr_r2_train_scores=[]\n",
    "dtr_mae_train_scores=[]\n",
    "for reg in regs:\n",
    "    yp=reg.predict(X1_train)\n",
    "    dtr_mse_train_scores.append(mean_squared_error(y1_train,yp))\n",
    "    dtr_r2_train_scores.append(r2_score(y1_train,yp))\n",
    "    dtr_mae_train_scores.append(median_absolute_error(y1_train,yp))\n",
    "    \n",
    "#Calculate scores for test set\n",
    "dtr_mse_test_scores=[]\n",
    "dtr_r2_test_scores=[]\n",
    "dtr_mae_test_scores=[]\n",
    "for reg in regs:\n",
    "    yp=reg.predict(X1_test)\n",
    "    dtr_mse_test_scores.append(mean_squared_error(y1_test,yp))\n",
    "    dtr_r2_test_scores.append(r2_score(y1_test,yp))\n",
    "    dtr_mae_test_scores.append(median_absolute_error(y1_test,yp))\n",
    "t1=time.time()\n",
    "print(\"Complete. Time elapsed: {} seconds.\".format(t1-t0))"
   ]
  },
  {
   "cell_type": "code",
   "execution_count": 282,
   "metadata": {},
   "outputs": [
    {
     "data": {
      "image/png": "[encoded data removed]",
      "text/plain": [
       "<Figure size 432x288 with 1 Axes>"
      ]
     },
     "metadata": {
      "needs_background": "light"
     },
     "output_type": "display_data"
    }
   ],
   "source": [
    "fig, ax = plt.subplots()\n",
    "ax.set_xlabel(\"alpha\")\n",
    "ax.set_ylabel(\"MSE\")\n",
    "ax.set_title(\"MSE vs alpha for training and testing sets\")\n",
    "ax.plot(ccp_alphas, dtr_mse_train_scores, marker='o', label=\"train\",\n",
    "        drawstyle=\"steps-post\")\n",
    "ax.plot(ccp_alphas, dtr_mse_test_scores, marker='o', label=\"test\",\n",
    "        drawstyle=\"steps-post\")\n",
    "ax.legend()\n",
    "\n",
    "plt.savefig(\"dtr_mse.png\")\n",
    "plt.show()"
   ]
  },
  {
   "cell_type": "code",
   "execution_count": 283,
   "metadata": {},
   "outputs": [
    {
     "data": {
      "image/png": "[encoded data removed]",
      "text/plain": [
       "<Figure size 432x288 with 1 Axes>"
      ]
     },
     "metadata": {
      "needs_background": "light"
     },
     "output_type": "display_data"
    }
   ],
   "source": [
    "fig, ax = plt.subplots()\n",
    "ax.set_xlabel(\"alpha\")\n",
    "ax.set_ylabel(\"R^2\")\n",
    "ax.set_title(\"R^2 vs alpha for training and testing sets\")\n",
    "ax.plot(ccp_alphas, dtr_r2_train_scores, marker='o', label=\"train\",\n",
    "        drawstyle=\"steps-post\")\n",
    "ax.plot(ccp_alphas, dtr_r2_test_scores, marker='o', label=\"test\",\n",
    "        drawstyle=\"steps-post\")\n",
    "ax.legend()\n",
    "\n",
    "plt.savefig(\"dtr_r2.png\")\n",
    "plt.show()"
   ]
  },
  {
   "cell_type": "code",
   "execution_count": 281,
   "metadata": {},
   "outputs": [
    {
     "data": {
      "image/png": "[encoded data removed]",
      "text/plain": [
       "<Figure size 432x288 with 1 Axes>"
      ]
     },
     "metadata": {
      "needs_background": "light"
     },
     "output_type": "display_data"
    }
   ],
   "source": [
    "fig, ax = plt.subplots()\n",
    "ax.set_xlabel(\"alpha\")\n",
    "ax.set_ylabel(\"MAE\")\n",
    "ax.set_title(\"MAE vs alpha for training and testing sets\")\n",
    "ax.plot(ccp_alphas, dtr_mae_train_scores, marker='o', label=\"train\",\n",
    "        drawstyle=\"steps-post\")\n",
    "ax.plot(ccp_alphas, dtr_mae_test_scores, marker='o', label=\"test\",\n",
    "        drawstyle=\"steps-post\")\n",
    "ax.legend()\n",
    "\n",
    "plt.savefig(\"dtr_mae.png\")\n",
    "plt.show()"
   ]
  },
  {
   "cell_type": "markdown",
   "metadata": {},
   "source": [
    "**From these results, we see that the best tree is the first as it has the lowest mean squared error and median absolute error, and the highest R^2 of all of the possibilities. The fact that mse and median absolute error increase and r^2 decreases as higher ccp_alphas are added suggest that the model did not fit properly. A possible explanation is that I did cost compexity pruning on a tree already optimized using GridSearchCV, which was well fitted to the data and became progressively more underfitted as ccp_alpha, and related pruning, increased. Time and computing power make another trial infeasable.**"
   ]
  },
  {
   "cell_type": "markdown",
   "metadata": {},
   "source": [
    "### Cross validation on best decision tree"
   ]
  },
  {
   "cell_type": "code",
   "execution_count": 284,
   "metadata": {},
   "outputs": [
    {
     "name": "stdout",
     "output_type": "stream",
     "text": [
      "Cross validation complete. Total time elapsed: 0.832 seconds.\n"
     ]
    }
   ],
   "source": [
    "#Create a 2D array containing the 5-fold CV results of the best estimator\n",
    "#Will iterate over train and test set for MSE, R^2, and MAE\n",
    "scorers = [\"neg_mean_squared_error\",\"r2\",\"neg_median_absolute_error\"]\n",
    "X = [X1_train, X1_test]\n",
    "y= [y1_train, y1_test]\n",
    "dtr_points = []\n",
    "t0=time.time()\n",
    "for i in range(2):\n",
    "    for j in range(3):\n",
    "        points = cross_validate(estimator = lots_of_Trees_2.best_estimator_,\n",
    "                                  scoring=scorers[j], X = X[i], y = y[i], cv = 5)['test_score']\n",
    "        dtr_points.append(points)\n",
    "dtr_points = np.abs(np.array(dtr_points))\n",
    "t1=time.time()\n",
    "print(\"Cross validation complete. Total time elapsed: {0:.3f} seconds.\".format(t1-t0))"
   ]
  },
  {
   "cell_type": "code",
   "execution_count": 285,
   "metadata": {},
   "outputs": [],
   "source": [
    "#Create Dataframe for standard deviation and mean for all 3 scoring metrics\n",
    "dtr_std=[]\n",
    "t0=time.time()\n",
    "for i in range(6):\n",
    "    std = np.std(dtr_points[i])\n",
    "    dtr_std.append(std)\n",
    "dtr_std_df = pd.DataFrame(np.array(dtr_std).reshape((2,3)), \n",
    "                              columns=['MSE','R^2','MAE'], index=['Train','Test'])\n",
    "\n",
    "dtr_mean=[]\n",
    "for i in range(6):\n",
    "    mean = np.mean(dtr_points[i])\n",
    "    dtr_mean.append(mean)    \n",
    "dtr_mean_df = pd.DataFrame(np.array(dtr_mean).reshape((2,3)), \n",
    "                              columns=['MSE','R^2','MAE'], index=['Train','Test'])"
   ]
  },
  {
   "cell_type": "code",
   "execution_count": 286,
   "metadata": {},
   "outputs": [
    {
     "data": {
      "text/html": [
       "<div>\n",
       "<style scoped>\n",
       "    .dataframe tbody tr th:only-of-type {\n",
       "        vertical-align: middle;\n",
       "    }\n",
       "\n",
       "    .dataframe tbody tr th {\n",
       "        vertical-align: top;\n",
       "    }\n",
       "\n",
       "    .dataframe thead th {\n",
       "        text-align: right;\n",
       "    }\n",
       "</style>\n",
       "<table border=\"1\" class=\"dataframe\">\n",
       "  <thead>\n",
       "    <tr style=\"text-align: right;\">\n",
       "      <th></th>\n",
       "      <th>MSE</th>\n",
       "      <th>R^2</th>\n",
       "      <th>MAE</th>\n",
       "    </tr>\n",
       "  </thead>\n",
       "  <tbody>\n",
       "    <tr>\n",
       "      <th>Train</th>\n",
       "      <td>15.363434</td>\n",
       "      <td>0.866963</td>\n",
       "      <td>1.690229</td>\n",
       "    </tr>\n",
       "    <tr>\n",
       "      <th>Test</th>\n",
       "      <td>32.881746</td>\n",
       "      <td>0.698136</td>\n",
       "      <td>2.603326</td>\n",
       "    </tr>\n",
       "  </tbody>\n",
       "</table>\n",
       "</div>"
      ],
      "text/plain": [
       "             MSE       R^2       MAE\n",
       "Train  15.363434  0.866963  1.690229\n",
       "Test   32.881746  0.698136  2.603326"
      ]
     },
     "execution_count": 286,
     "metadata": {},
     "output_type": "execute_result"
    }
   ],
   "source": [
    "dtr_mean_df"
   ]
  },
  {
   "cell_type": "code",
   "execution_count": 287,
   "metadata": {},
   "outputs": [
    {
     "data": {
      "text/html": [
       "<div>\n",
       "<style scoped>\n",
       "    .dataframe tbody tr th:only-of-type {\n",
       "        vertical-align: middle;\n",
       "    }\n",
       "\n",
       "    .dataframe tbody tr th {\n",
       "        vertical-align: top;\n",
       "    }\n",
       "\n",
       "    .dataframe thead th {\n",
       "        text-align: right;\n",
       "    }\n",
       "</style>\n",
       "<table border=\"1\" class=\"dataframe\">\n",
       "  <thead>\n",
       "    <tr style=\"text-align: right;\">\n",
       "      <th></th>\n",
       "      <th>MSE</th>\n",
       "      <th>R^2</th>\n",
       "      <th>MAE</th>\n",
       "    </tr>\n",
       "  </thead>\n",
       "  <tbody>\n",
       "    <tr>\n",
       "      <th>Train</th>\n",
       "      <td>2.346519</td>\n",
       "      <td>0.019150</td>\n",
       "      <td>0.049907</td>\n",
       "    </tr>\n",
       "    <tr>\n",
       "      <th>Test</th>\n",
       "      <td>15.591133</td>\n",
       "      <td>0.154655</td>\n",
       "      <td>0.436453</td>\n",
       "    </tr>\n",
       "  </tbody>\n",
       "</table>\n",
       "</div>"
      ],
      "text/plain": [
       "             MSE       R^2       MAE\n",
       "Train   2.346519  0.019150  0.049907\n",
       "Test   15.591133  0.154655  0.436453"
      ]
     },
     "execution_count": 287,
     "metadata": {},
     "output_type": "execute_result"
    }
   ],
   "source": [
    "dtr_std_df"
   ]
  },
  {
   "cell_type": "code",
   "execution_count": 299,
   "metadata": {},
   "outputs": [
    {
     "data": {
      "image/png": "[encoded data removed]",
      "text/plain": [
       "<Figure size 432x360 with 1 Axes>"
      ]
     },
     "metadata": {
      "needs_background": "light"
     },
     "output_type": "display_data"
    },
    {
     "data": {
      "image/png": "[encoded data removed]",
      "text/plain": [
       "<Figure size 432x360 with 1 Axes>"
      ]
     },
     "metadata": {
      "needs_background": "light"
     },
     "output_type": "display_data"
    },
    {
     "data": {
      "image/png": "[encoded data removed]",
      "text/plain": [
       "<Figure size 432x360 with 1 Axes>"
      ]
     },
     "metadata": {
      "needs_background": "light"
     },
     "output_type": "display_data"
    }
   ],
   "source": [
    "scorenames=['MSE','R^2','MAE']\n",
    "mean_arr = np.array(dtr_mean).reshape((2,3)) \n",
    "std_arr = np.array(dtr_std).reshape((2,3))\n",
    "dtr_points_arr = dtr_points.reshape((2,3,5))\n",
    "for i in range(3):\n",
    "    fig, ax = plt.subplots(figsize=(6,5), tight_layout=True)\n",
    "    ax.plot([1,1,1,1,1],dtr_points_arr[0][i], linestyle='none',marker=\"o\", color=\"cornflowerblue\",label='train')\n",
    "    ax.plot([2,2,2,2,2],dtr_points_arr[1][i], linestyle='none',marker=\"o\", color=\"cornflowerblue\",label='test')\n",
    "    ax.errorbar([1],mean_arr[0][i],std_arr[0][i],\n",
    "               linestyle='none', marker='_', color='maroon', capsize=10, label='train')\n",
    "    ax.errorbar([2],mean_arr[1][i],std_arr[1][i],\n",
    "               linestyle='none', marker='_', color='maroon', capsize=10, label='train')\n",
    "    ax.set_title(\"{} of Best DTR\".format(scorenames[i]), fontsize=18)\n",
    "    ax.set_xticklabels(['Train','Test'], fontsize=12)\n",
    "    ax.set_xticks([1,2])\n",
    "    ax.set_ylabel(\"MSE\", fontsize=12)\n",
    "    ax.set_xlim(left=0.5,right=2.5)\n",
    "    filename=\"dtr_\"+str(scorers[i])+\".png\"\n",
    "    plt.savefig(filename)"
   ]
  },
  {
   "cell_type": "markdown",
   "metadata": {},
   "source": [
    "**The graphs above are indicative of an overfitted model. The metrics for the train set are consistently better than for the test set, and the variance of cross validation scores for the test set is higher than the variance scores for the train set. Another explanation is that the estimator used for cross validation did not inculde a ccp_alpha, which resulted in no pruning in a tree that has split to too great a depth.**"
   ]
  },
  {
   "cell_type": "markdown",
   "metadata": {},
   "source": [
    "## 2b) Redo of Decision Tree Regressor With Scaled Features"
   ]
  },
  {
   "cell_type": "code",
   "execution_count": 19,
   "metadata": {},
   "outputs": [
    {
     "name": "stdout",
     "output_type": "stream",
     "text": [
      "Time to fit one tree: 0.079 seconds.\n"
     ]
    },
    {
     "name": "stderr",
     "output_type": "stream",
     "text": [
      "dot: graph is too large for cairo-renderer bitmaps. Scaling by 0.149045 to fit\r\n"
     ]
    },
    {
     "data": {
      "text/plain": [
       "'scaled_tree.gv.png'"
      ]
     },
     "execution_count": 19,
     "metadata": {},
     "output_type": "execute_result"
    }
   ],
   "source": [
    "from sklearn.model_selection import GridSearchCV\n",
    "from sklearn.tree import DecisionTreeRegressor\n",
    "#Construct first tree to determine max depth without restrictions\n",
    "t0=time.time()\n",
    "reg=DecisionTreeRegressor(random_state=24)\n",
    "reg.fit(X1sc_train,y1sc_train)\n",
    "t1=time.time()\n",
    "print(\"Time to fit one tree: {0:.3f} seconds.\".format(t1-t0))\n",
    "\n",
    "from sklearn import tree\n",
    "dot_data = tree.export_graphviz(reg, out_file=None,\n",
    "                                feature_names=list(all_features),\n",
    "                                filled=True, \n",
    "                                rounded=True,special_characters=True)\n",
    "import graphviz\n",
    "graph = graphviz.Source(dot_data).view(filename='scaled_tree.gv')\n",
    "from graphviz import render\n",
    "render('dot', 'png', 'scaled_tree.gv')"
   ]
  },
  {
   "cell_type": "markdown",
   "metadata": {},
   "source": [
    "![scaled tree](scaled_tree.gv.png)"
   ]
  },
  {
   "cell_type": "code",
   "execution_count": 20,
   "metadata": {},
   "outputs": [
    {
     "name": "stdout",
     "output_type": "stream",
     "text": [
      "2352 hyperparameters will be tested.\n"
     ]
    }
   ],
   "source": [
    "DTR_params_1={\n",
    "'max_depth' : [7,10,11,12,13,15,20,None],\n",
    "'min_samples_split': [100,150,175,200,225,250],\n",
    "'min_samples_leaf': [8,10,11,12,13,14,16],\n",
    "'max_features': [4,6,8,10,12,15,None]\n",
    "}\n",
    "\n",
    "#Print number of parameters entered\n",
    "param_num = []\n",
    "for key,value in DTR_params_1.items():\n",
    "    param_num.append(len(value))\n",
    "result = 1\n",
    "for x in param_num: \n",
    "    result = result * x  \n",
    "print(\"{} hyperparameters will be tested.\".format(result)) \n",
    "\n",
    "mod=DecisionTreeRegressor(random_state=24)\n",
    "lots_of_Trees = GridSearchCV(mod, DTR_params_1, cv=5, scoring = 'neg_mean_squared_error', n_jobs=-1)"
   ]
  },
  {
   "cell_type": "code",
   "execution_count": 21,
   "metadata": {},
   "outputs": [
    {
     "name": "stdout",
     "output_type": "stream",
     "text": [
      "Fitting Complete. Time elapsed: 64.265 seconds.\n"
     ]
    }
   ],
   "source": [
    "t0=time.time()\n",
    "lots_of_Trees.fit(X1sc_train,y1sc_train)\n",
    "t1=time.time()\n",
    "print(\"Fitting Complete. Time elapsed: {0:.3f} seconds.\".format(t1-t0))"
   ]
  },
  {
   "cell_type": "code",
   "execution_count": 22,
   "metadata": {},
   "outputs": [
    {
     "name": "stdout",
     "output_type": "stream",
     "text": [
      "Parameters of best tree: {'max_depth': 13, 'max_features': None, 'min_samples_leaf': 8, 'min_samples_split': 100}\n",
      "Mean Squared Error of best tree: 0.161577278\n"
     ]
    }
   ],
   "source": [
    "print(\"Parameters of best tree: {}\".format(lots_of_Trees.best_params_))\n",
    "print(\"Mean Squared Error of best tree: {0:.9f}\".format(-1*lots_of_Trees.best_score_))"
   ]
  },
  {
   "cell_type": "markdown",
   "metadata": {},
   "source": [
    "The parameters returned are the same as from the trial without scaled features, but the mean squared error appears to be much lower. PCA-SVR still outperforms DTR, but the difference between is lower than before."
   ]
  },
  {
   "cell_type": "markdown",
   "metadata": {},
   "source": [
    "### References\n",
    "\n",
    "Little MA, McSharry PE, Hunter EJ, Ramig LO (2009),\n",
    "'Suitability of dysphonia measurements for telemonitoring of Parkinson's \n",
    "disease',\n",
    "IEEE Transactions on Biomedical Engineering, 56(4):1015-1022\n",
    "\n",
    "Little MA, McSharry PE, Roberts SJ, Costello DAE, Moroz IM.\n",
    "'Exploiting Nonlinear Recurrence and Fractal Scaling Properties for Voice \n",
    "Disorder Detection',\n",
    "BioMedical Engineering OnLine 2007, 6:23 (26 June 2007) "
   ]
  }
 ],
 "metadata": {
  "kernelspec": {
   "display_name": "Python 3",
   "language": "python",
   "name": "python3"
  },
  "language_info": {
   "codemirror_mode": {
    "name": "ipython",
    "version": 3
   },
   "file_extension": ".py",
   "mimetype": "text/x-python",
   "name": "python",
   "nbconvert_exporter": "python",
   "pygments_lexer": "ipython3",
   "version": "3.7.5"
  },
  "nteract": {
   "version": "0.15.0"
  }
 },
 "nbformat": 4,
 "nbformat_minor": 2
}
